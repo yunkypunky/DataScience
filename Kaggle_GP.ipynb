{
 "cells": [
  {
   "cell_type": "code",
   "execution_count": 2,
   "metadata": {
    "pycharm": {
     "is_executing": false
    }
   },
   "outputs": [],
   "source": [
    "import numpy as np\n",
    "import pandas as pd\n",
    "import matplotlib.pyplot as plt\n",
    "import warnings\n",
    "warnings.simplefilter(action='ignore', category=FutureWarning)\n",
    "pd.set_option('max_colwidth', 999)\n",
    "pd.set_option('max_columns',100)\n",
    "pd.set_option('max_rows',10000)\n",
    "pd.options.display.float_format = '{:.4f}'.format"
   ]
  },
  {
   "cell_type": "code",
   "execution_count": 3,
   "metadata": {
    "scrolled": true,
    "pycharm": {
     "is_executing": false
    }
   },
   "outputs": [
    {
     "data": {
      "text/plain": "   PassengerId  Pclass                                          Name     Sex  \\\n0          892       3                              Kelly, Mr. James    male   \n1          893       3              Wilkes, Mrs. James (Ellen Needs)  female   \n2          894       2                     Myles, Mr. Thomas Francis    male   \n3          895       3                              Wirz, Mr. Albert    male   \n4          896       3  Hirvonen, Mrs. Alexander (Helga E Lindqvist)  female   \n\n      Age  SibSp  Parch   Ticket    Fare Cabin Embarked  \n0 34.5000      0      0   330911  7.8292   NaN        Q  \n1 47.0000      1      0   363272  7.0000   NaN        S  \n2 62.0000      0      0   240276  9.6875   NaN        Q  \n3 27.0000      0      0   315154  8.6625   NaN        S  \n4 22.0000      1      1  3101298 12.2875   NaN        S  ",
      "text/html": "<div>\n<style scoped>\n    .dataframe tbody tr th:only-of-type {\n        vertical-align: middle;\n    }\n\n    .dataframe tbody tr th {\n        vertical-align: top;\n    }\n\n    .dataframe thead th {\n        text-align: right;\n    }\n</style>\n<table border=\"1\" class=\"dataframe\">\n  <thead>\n    <tr style=\"text-align: right;\">\n      <th></th>\n      <th>PassengerId</th>\n      <th>Pclass</th>\n      <th>Name</th>\n      <th>Sex</th>\n      <th>Age</th>\n      <th>SibSp</th>\n      <th>Parch</th>\n      <th>Ticket</th>\n      <th>Fare</th>\n      <th>Cabin</th>\n      <th>Embarked</th>\n    </tr>\n  </thead>\n  <tbody>\n    <tr>\n      <td>0</td>\n      <td>892</td>\n      <td>3</td>\n      <td>Kelly, Mr. James</td>\n      <td>male</td>\n      <td>34.5000</td>\n      <td>0</td>\n      <td>0</td>\n      <td>330911</td>\n      <td>7.8292</td>\n      <td>NaN</td>\n      <td>Q</td>\n    </tr>\n    <tr>\n      <td>1</td>\n      <td>893</td>\n      <td>3</td>\n      <td>Wilkes, Mrs. James (Ellen Needs)</td>\n      <td>female</td>\n      <td>47.0000</td>\n      <td>1</td>\n      <td>0</td>\n      <td>363272</td>\n      <td>7.0000</td>\n      <td>NaN</td>\n      <td>S</td>\n    </tr>\n    <tr>\n      <td>2</td>\n      <td>894</td>\n      <td>2</td>\n      <td>Myles, Mr. Thomas Francis</td>\n      <td>male</td>\n      <td>62.0000</td>\n      <td>0</td>\n      <td>0</td>\n      <td>240276</td>\n      <td>9.6875</td>\n      <td>NaN</td>\n      <td>Q</td>\n    </tr>\n    <tr>\n      <td>3</td>\n      <td>895</td>\n      <td>3</td>\n      <td>Wirz, Mr. Albert</td>\n      <td>male</td>\n      <td>27.0000</td>\n      <td>0</td>\n      <td>0</td>\n      <td>315154</td>\n      <td>8.6625</td>\n      <td>NaN</td>\n      <td>S</td>\n    </tr>\n    <tr>\n      <td>4</td>\n      <td>896</td>\n      <td>3</td>\n      <td>Hirvonen, Mrs. Alexander (Helga E Lindqvist)</td>\n      <td>female</td>\n      <td>22.0000</td>\n      <td>1</td>\n      <td>1</td>\n      <td>3101298</td>\n      <td>12.2875</td>\n      <td>NaN</td>\n      <td>S</td>\n    </tr>\n  </tbody>\n</table>\n</div>"
     },
     "metadata": {},
     "output_type": "execute_result",
     "execution_count": 3
    }
   ],
   "source": [
    "train = pd.read_csv('c:/Users/Yunki/DataQuest/MyDataSet/train.csv')\n",
    "test = pd.read_csv('c:/Users/Yunki/DataQuest/MyDataSet/test.csv')\n",
    "test.head()"
   ]
  },
  {
   "cell_type": "code",
   "execution_count": 4,
   "metadata": {
    "pycharm": {
     "is_executing": false
    }
   },
   "outputs": [],
   "source": [
    "# %load kaggle_functions.py\n",
    "def process_missing(df):\n",
    "    \"\"\"Handle various missing values from the data set\n",
    "\n",
    "    Usage\n",
    "    ------\n",
    "\n",
    "    holdout = process_missing(holdout)\n",
    "    \"\"\"\n",
    "    df[\"Fare\"] = df[\"Fare\"].fillna(train[\"Fare\"].mean())\n",
    "    df[\"Embarked\"] = df[\"Embarked\"].fillna(\"S\")\n",
    "    return df\n",
    "\n",
    "def process_age(df):\n",
    "    \"\"\"Process the Age column into pre-defined 'bins' \n",
    "\n",
    "    Usage\n",
    "    ------\n",
    "\n",
    "    train = process_age(train)\n",
    "    \"\"\"\n",
    "    df[\"Age\"] = df[\"Age\"].fillna(-0.5)\n",
    "    cut_points = [-1,0,5,12,18,35,60,100]\n",
    "    label_names = [\"Missing\",\"Infant\",\"Child\",\"Teenager\",\"Young Adult\",\"Adult\",\"Senior\"]\n",
    "    df[\"Age_categories\"] = pd.cut(df[\"Age\"],cut_points,labels=label_names)\n",
    "    return df\n",
    "\n",
    "def process_fare(df):\n",
    "    \"\"\"Process the Fare column into pre-defined 'bins' \n",
    "\n",
    "    Usage\n",
    "    ------\n",
    "\n",
    "    train = process_fare(train)\n",
    "    \"\"\"\n",
    "    cut_points = [-1,12,50,100,1000]\n",
    "    label_names = [\"0-12\",\"12-50\",\"50-100\",\"100+\"]\n",
    "    df[\"Fare_categories\"] = pd.cut(df[\"Fare\"],cut_points,labels=label_names)\n",
    "    return df\n",
    "\n",
    "def process_cabin(df):\n",
    "    \"\"\"Process the Cabin column into pre-defined 'bins' \n",
    "\n",
    "    Usage\n",
    "    ------\n",
    "\n",
    "    train process_cabin(train)\n",
    "    \"\"\"\n",
    "    df[\"Cabin_type\"] = df[\"Cabin\"].str[0]\n",
    "    df[\"Cabin_type\"] = df[\"Cabin_type\"].fillna(\"Unknown\")\n",
    "    df = df.drop('Cabin',axis=1)\n",
    "    return df\n",
    "\n",
    "def process_titles(df):\n",
    "    \"\"\"Extract and categorize the title from the name column \n",
    "\n",
    "    Usage\n",
    "    ------\n",
    "\n",
    "    train = process_titles(train)\n",
    "    \"\"\"\n",
    "    titles = {\n",
    "        \"Mr\" :         \"Mr\",\n",
    "        \"Mme\":         \"Mrs\",\n",
    "        \"Ms\":          \"Mrs\",\n",
    "        \"Mrs\" :        \"Mrs\",\n",
    "        \"Master\" :     \"Master\",\n",
    "        \"Mlle\":        \"Miss\",\n",
    "        \"Miss\" :       \"Miss\",\n",
    "        \"Capt\":        \"Officer\",\n",
    "        \"Col\":         \"Officer\",\n",
    "        \"Major\":       \"Officer\",\n",
    "        \"Dr\":          \"Officer\",\n",
    "        \"Rev\":         \"Officer\",\n",
    "        \"Jonkheer\":    \"Royalty\",\n",
    "        \"Don\":         \"Royalty\",\n",
    "        \"Sir\" :        \"Royalty\",\n",
    "        \"Countess\":    \"Royalty\",\n",
    "        \"Dona\":        \"Royalty\",\n",
    "        \"Lady\" :       \"Royalty\"\n",
    "    }\n",
    "    extracted_titles = df[\"Name\"].str.extract(' ([A-Za-z]+)\\.',expand=False)\n",
    "    df[\"Title\"] = extracted_titles.map(titles)\n",
    "    return df\n",
    "\n",
    "def create_dummies(df,column_name):\n",
    "    \"\"\"Create Dummy Columns (One Hot Encoding) from a single Column\n",
    "\n",
    "    Usage\n",
    "    ------\n",
    "\n",
    "    train = create_dummies(train,\"Age\")\n",
    "    \"\"\"\n",
    "    dummies = pd.get_dummies(df[column_name],prefix=column_name)\n",
    "    df = pd.concat([df,dummies],axis=1)\n",
    "    return df"
   ]
  },
  {
   "cell_type": "code",
   "execution_count": 5,
   "metadata": {
    "pycharm": {
     "is_executing": false
    }
   },
   "outputs": [],
   "source": [
    "def process_data(df):\n",
    "    df = process_missing(df)\n",
    "    df = process_age(df)\n",
    "    df = process_fare(df)\n",
    "    df = process_titles(df)\n",
    "    df = process_cabin(df)\n",
    "    \n",
    "    cols = [\"Age_categories\", \"Fare_categories\",\"Title\", \"Cabin_type\", \"Sex\"]\n",
    "    for i in cols:\n",
    "        df = create_dummies(df,i)\n",
    "    return df"
   ]
  },
  {
   "cell_type": "code",
   "execution_count": 6,
   "metadata": {
    "scrolled": true,
    "pycharm": {
     "is_executing": false
    }
   },
   "outputs": [],
   "source": [
    "train = process_data(train)\n",
    "test = process_data(test)"
   ]
  },
  {
   "cell_type": "code",
   "execution_count": 7,
   "metadata": {
    "pycharm": {
     "is_executing": false
    }
   },
   "outputs": [
    {
     "name": "stdout",
     "text": [
      "<class 'pandas.core.frame.DataFrame'>\nRangeIndex: 891 entries, 0 to 890\nData columns (total 3 columns):\nSibSp       891 non-null int64\nParch       891 non-null int64\nSurvived    891 non-null int64\ndtypes: int64(3)\nmemory usage: 21.0 KB\n"
     ],
     "output_type": "stream"
    }
   ],
   "source": [
    "explore_cols = [\"SibSp\",\"Parch\",\"Survived\"]\n",
    "explore = train[explore_cols].copy()\n",
    "explore.info()"
   ]
  },
  {
   "cell_type": "code",
   "execution_count": 8,
   "metadata": {
    "pycharm": {
     "is_executing": false
    }
   },
   "outputs": [
    {
     "data": {
      "text/plain": "<Figure size 432x288 with 1 Axes>",
      "image/png": "[encoded data removed]"
     },
     "metadata": {
      "needs_background": "light"
     },
     "output_type": "display_data"
    }
   ],
   "source": [
    "explore.drop(\"Survived\",axis=1).plot.hist(alpha=0.5,bins=8)\n",
    "plt.show()"
   ]
  },
  {
   "cell_type": "code",
   "execution_count": 9,
   "metadata": {
    "pycharm": {
     "is_executing": false
    }
   },
   "outputs": [
    {
     "data": {
      "text/plain": "<Figure size 432x288 with 1 Axes>",
      "image/png": "[encoded data removed]"
     },
     "metadata": {
      "needs_background": "light"
     },
     "output_type": "display_data"
    }
   ],
   "source": [
    "explore[\"familysize\"] = explore[[\"SibSp\",\"Parch\"]].sum(axis=1)\n",
    "explore.drop(\"Survived\",axis=1).plot.hist(alpha=0.5,bins=10)\n",
    "plt.xticks(range(11))\n",
    "plt.show()"
   ]
  },
  {
   "cell_type": "code",
   "execution_count": 10,
   "metadata": {
    "pycharm": {
     "is_executing": false
    }
   },
   "outputs": [
    {
     "data": {
      "text/plain": "<Figure size 432x288 with 1 Axes>",
      "image/png": "[encoded data removed]"
     },
     "metadata": {
      "needs_background": "light"
     },
     "output_type": "display_data"
    },
    {
     "data": {
      "text/plain": "<Figure size 432x288 with 1 Axes>",
      "image/png": "[encoded data removed]"
     },
     "metadata": {
      "needs_background": "light"
     },
     "output_type": "display_data"
    },
    {
     "data": {
      "text/plain": "<Figure size 432x288 with 1 Axes>",
      "image/png": "[encoded data removed]"
     },
     "metadata": {
      "needs_background": "light"
     },
     "output_type": "display_data"
    }
   ],
   "source": [
    "for col in explore.columns.drop(\"Survived\"):\n",
    "    pivot = explore.pivot_table(index=col,values=\"Survived\")\n",
    "    pivot.plot.bar(ylim=(0,1),yticks=np.arange(0,1,.1))\n",
    "    plt.axhspan(.3, .6, alpha=0.2, color='red')\n",
    "    plt.show()"
   ]
  },
  {
   "cell_type": "code",
   "execution_count": 11,
   "metadata": {
    "pycharm": {
     "is_executing": false
    }
   },
   "outputs": [],
   "source": [
    "def isalone_process(row):\n",
    "    return 1 if row[[\"SibSp\",\"Parch\"]].sum() == 0 else 0\n",
    "\n",
    "train['isalone'] = train.apply(isalone_process,axis= 1)\n",
    "test['isalone'] = test.apply(isalone_process,axis = 1)"
   ]
  },
  {
   "cell_type": "code",
   "execution_count": 12,
   "metadata": {
    "pycharm": {
     "is_executing": false
    }
   },
   "outputs": [],
   "source": [
    "from sklearn.ensemble import RandomForestClassifier\n",
    "from sklearn.feature_selection import RFECV\n",
    "\n",
    "def select_features(df):\n",
    "    df = df.select_dtypes(['float64','int64','uint8'])\n",
    "    df = df.dropna(axis =1)\n",
    "    all_X = df.drop(['Survived','PassengerId'],axis=1)\n",
    "    all_y = df['Survived']\n",
    "    rf = RandomForestClassifier(random_state=1)\n",
    "    selector = RFECV(rf,cv=10)\n",
    "    selector.fit(all_X,all_y)\n",
    "    optimized_features = all_X.columns[selector.support_]\n",
    "    return optimized_features"
   ]
  },
  {
   "cell_type": "code",
   "execution_count": 13,
   "metadata": {
    "scrolled": true,
    "pycharm": {
     "is_executing": false
    }
   },
   "outputs": [
    {
     "data": {
      "text/plain": "Index(['Pclass', 'Age', 'SibSp', 'Parch', 'Fare', 'Age_categories_Missing',\n       'Age_categories_Infant', 'Age_categories_Young Adult',\n       'Fare_categories_12-50', 'Title_Miss', 'Title_Mr', 'Title_Mrs',\n       'Cabin_type_D', 'Cabin_type_E', 'Cabin_type_Unknown', 'Sex_female',\n       'Sex_male', 'isalone'],\n      dtype='object')"
     },
     "metadata": {},
     "output_type": "execute_result",
     "execution_count": 13
    }
   ],
   "source": [
    "best_features = select_features(train)\n",
    "best_features"
   ]
  },
  {
   "cell_type": "code",
   "execution_count": 14,
   "metadata": {
    "scrolled": true,
    "pycharm": {
     "is_executing": false
    }
   },
   "outputs": [],
   "source": [
    "import model_prep as mp\n",
    "sel_feat = mp.ModelPrepSelectFeatures(train).collin()"
   ]
  },
  {
   "cell_type": "code",
   "execution_count": 15,
   "metadata": {
    "pycharm": {
     "is_executing": false
    }
   },
   "outputs": [],
   "source": [
    "from sklearn.model_selection import GridSearchCV\n",
    "from sklearn.neighbors import KNeighborsClassifier\n",
    "from sklearn.linear_model import LogisticRegression\n",
    "def model_selection(df,features):\n",
    "    all_X = df[features]\n",
    "    all_y = df['Survived']\n",
    "    model_search = [\n",
    "        {\n",
    "            'name':'LogisticRegression',\n",
    "            'estimator':LogisticRegression(),\n",
    "            'hyperparameters':\n",
    "            {\n",
    "                \"solver\": [\"newton-cg\", \"lbfgs\", \"liblinear\"]\n",
    "            }\n",
    "        },\n",
    "        {\n",
    "            'name':'KNeighborsClassifier',\n",
    "            'estimator':KNeighborsClassifier(),\n",
    "            'hyperparameters':\n",
    "            {\n",
    "                \"n_neighbors\": range(1,20,2),\n",
    "                \"weights\": [\"distance\", \"uniform\"],\n",
    "                \"algorithm\": [\"ball_tree\", \"kd_tree\", \"brute\"],\n",
    "                \"p\": [1,2]\n",
    "            }\n",
    "        },\n",
    "        {\n",
    "            'name':'RandomForestClassifier',\n",
    "            'estimator':RandomForestClassifier(),\n",
    "            'hyperparameters':\n",
    "            {\n",
    "                \"n_estimators\": [4, 6, 9],\n",
    "                \"criterion\": [\"entropy\", \"gini\"],\n",
    "                \"max_depth\": [2, 5, 10],\n",
    "                \"max_features\": [\"log2\", \"sqrt\"],\n",
    "                \"min_samples_leaf\": [1, 5, 8],\n",
    "                \"min_samples_split\": [2, 3, 5]\n",
    "            }\n",
    "        }\n",
    "    ]\n",
    "    for d in model_search:\n",
    "        print(f\"model search: {d['name']}\")\n",
    "        model = d['estimator']\n",
    "        grid = GridSearchCV(model,param_grid=d['hyperparameters'],cv=10)\n",
    "        grid.fit(all_X,all_y)\n",
    "        d['best_params'] = grid.best_params_\n",
    "        d['best_score'] = grid.best_score_\n",
    "        d['best_estimator'] = grid.best_estimator_\n",
    "        print(f\"best parameter: {d['best_params']}\")\n",
    "        print(f\"best score: {d['best_score']}\")\n",
    "    return model_search"
   ]
  },
  {
   "cell_type": "code",
   "execution_count": 16,
   "metadata": {
    "scrolled": true,
    "pycharm": {
     "is_executing": false
    }
   },
   "outputs": [
    {
     "name": "stdout",
     "text": [
      "model search: LogisticRegression\n",
      "best parameter: {'solver': 'liblinear'}\nbest score: 0.8204264870931538\nmodel search: KNeighborsClassifier\n",
      "best parameter: {'algorithm': 'brute', 'n_neighbors': 5, 'p': 1, 'weights': 'uniform'}\nbest score: 0.7755331088664422\nmodel search: RandomForestClassifier\n",
      "best parameter: {'criterion': 'gini', 'max_depth': 10, 'max_features': 'sqrt', 'min_samples_leaf': 1, 'min_samples_split': 5, 'n_estimators': 9}\nbest score: 0.8395061728395061\n"
     ],
     "output_type": "stream"
    },
    {
     "name": "stderr",
     "text": [
      "C:\\Users\\Yunki\\Anaconda3\\lib\\site-packages\\sklearn\\linear_model\\logistic.py:947: ConvergenceWarning: lbfgs failed to converge. Increase the number of iterations.\n  \"of iterations.\", ConvergenceWarning)\nC:\\Users\\Yunki\\Anaconda3\\lib\\site-packages\\sklearn\\linear_model\\logistic.py:947: ConvergenceWarning: lbfgs failed to converge. Increase the number of iterations.\n  \"of iterations.\", ConvergenceWarning)\nC:\\Users\\Yunki\\Anaconda3\\lib\\site-packages\\sklearn\\linear_model\\logistic.py:947: ConvergenceWarning: lbfgs failed to converge. Increase the number of iterations.\n  \"of iterations.\", ConvergenceWarning)\nC:\\Users\\Yunki\\Anaconda3\\lib\\site-packages\\sklearn\\linear_model\\logistic.py:947: ConvergenceWarning: lbfgs failed to converge. Increase the number of iterations.\n  \"of iterations.\", ConvergenceWarning)\nC:\\Users\\Yunki\\Anaconda3\\lib\\site-packages\\sklearn\\linear_model\\logistic.py:947: ConvergenceWarning: lbfgs failed to converge. Increase the number of iterations.\n  \"of iterations.\", ConvergenceWarning)\n",
      "C:\\Users\\Yunki\\Anaconda3\\lib\\site-packages\\sklearn\\linear_model\\logistic.py:947: ConvergenceWarning: lbfgs failed to converge. Increase the number of iterations.\n  \"of iterations.\", ConvergenceWarning)\nC:\\Users\\Yunki\\Anaconda3\\lib\\site-packages\\sklearn\\linear_model\\logistic.py:947: ConvergenceWarning: lbfgs failed to converge. Increase the number of iterations.\n  \"of iterations.\", ConvergenceWarning)\nC:\\Users\\Yunki\\Anaconda3\\lib\\site-packages\\sklearn\\linear_model\\logistic.py:947: ConvergenceWarning: lbfgs failed to converge. Increase the number of iterations.\n  \"of iterations.\", ConvergenceWarning)\n",
      "C:\\Users\\Yunki\\Anaconda3\\lib\\site-packages\\sklearn\\linear_model\\logistic.py:947: ConvergenceWarning: lbfgs failed to converge. Increase the number of iterations.\n  \"of iterations.\", ConvergenceWarning)\nC:\\Users\\Yunki\\Anaconda3\\lib\\site-packages\\sklearn\\linear_model\\logistic.py:947: ConvergenceWarning: lbfgs failed to converge. Increase the number of iterations.\n  \"of iterations.\", ConvergenceWarning)\n",
      "C:\\Users\\Yunki\\Anaconda3\\lib\\site-packages\\sklearn\\model_selection\\_search.py:814: DeprecationWarning: The default of the `iid` parameter will change from True to False in version 0.22 and will be removed in 0.24. This will change numeric results when test-set sizes are unequal.\n  DeprecationWarning)\n"
     ],
     "output_type": "stream"
    },
    {
     "data": {
      "text/plain": "[{'name': 'LogisticRegression',\n  'estimator': LogisticRegression(C=1.0, class_weight=None, dual=False, fit_intercept=True,\n                     intercept_scaling=1, l1_ratio=None, max_iter=100,\n                     multi_class='warn', n_jobs=None, penalty='l2',\n                     random_state=None, solver='warn', tol=0.0001, verbose=0,\n                     warm_start=False),\n  'hyperparameters': {'solver': ['newton-cg', 'lbfgs', 'liblinear']},\n  'best_params': {'solver': 'liblinear'},\n  'best_score': 0.8204264870931538,\n  'best_estimator': LogisticRegression(C=1.0, class_weight=None, dual=False, fit_intercept=True,\n                     intercept_scaling=1, l1_ratio=None, max_iter=100,\n                     multi_class='warn', n_jobs=None, penalty='l2',\n                     random_state=None, solver='liblinear', tol=0.0001, verbose=0,\n                     warm_start=False)},\n {'name': 'KNeighborsClassifier',\n  'estimator': KNeighborsClassifier(algorithm='auto', leaf_size=30, metric='minkowski',\n                       metric_params=None, n_jobs=None, n_neighbors=5, p=2,\n                       weights='uniform'),\n  'hyperparameters': {'n_neighbors': range(1, 20, 2),\n   'weights': ['distance', 'uniform'],\n   'algorithm': ['ball_tree', 'kd_tree', 'brute'],\n   'p': [1, 2]},\n  'best_params': {'algorithm': 'brute',\n   'n_neighbors': 5,\n   'p': 1,\n   'weights': 'uniform'},\n  'best_score': 0.7755331088664422,\n  'best_estimator': KNeighborsClassifier(algorithm='brute', leaf_size=30, metric='minkowski',\n                       metric_params=None, n_jobs=None, n_neighbors=5, p=1,\n                       weights='uniform')},\n {'name': 'RandomForestClassifier',\n  'estimator': RandomForestClassifier(bootstrap=True, class_weight=None, criterion='gini',\n                         max_depth=None, max_features='auto', max_leaf_nodes=None,\n                         min_impurity_decrease=0.0, min_impurity_split=None,\n                         min_samples_leaf=1, min_samples_split=2,\n                         min_weight_fraction_leaf=0.0, n_estimators='warn',\n                         n_jobs=None, oob_score=False, random_state=None,\n                         verbose=0, warm_start=False),\n  'hyperparameters': {'n_estimators': [4, 6, 9],\n   'criterion': ['entropy', 'gini'],\n   'max_depth': [2, 5, 10],\n   'max_features': ['log2', 'sqrt'],\n   'min_samples_leaf': [1, 5, 8],\n   'min_samples_split': [2, 3, 5]},\n  'best_params': {'criterion': 'gini',\n   'max_depth': 10,\n   'max_features': 'sqrt',\n   'min_samples_leaf': 1,\n   'min_samples_split': 5,\n   'n_estimators': 9},\n  'best_score': 0.8395061728395061,\n  'best_estimator': RandomForestClassifier(bootstrap=True, class_weight=None, criterion='gini',\n                         max_depth=10, max_features='sqrt', max_leaf_nodes=None,\n                         min_impurity_decrease=0.0, min_impurity_split=None,\n                         min_samples_leaf=1, min_samples_split=5,\n                         min_weight_fraction_leaf=0.0, n_estimators=9,\n                         n_jobs=None, oob_score=False, random_state=None,\n                         verbose=0, warm_start=False)}]"
     },
     "metadata": {},
     "output_type": "execute_result",
     "execution_count": 16
    }
   ],
   "source": [
    "model_selected = model_selection(train,best_features)\n",
    "model_selected"
   ]
  },
  {
   "cell_type": "code",
   "execution_count": 17,
   "metadata": {
    "scrolled": true,
    "pycharm": {
     "is_executing": false
    }
   },
   "outputs": [
    {
     "name": "stdout",
     "text": [
      "model search: LogisticRegression\n",
      "best parameter: {'solver': 'liblinear'}\nbest score: 0.8204264870931538\nmodel search: KNeighborsClassifier\n",
      "best parameter: {'algorithm': 'brute', 'n_neighbors': 11, 'p': 1, 'weights': 'distance'}\nbest score: 0.7598204264870931\nmodel search: RandomForestClassifier\n",
      "best parameter: {'criterion': 'entropy', 'max_depth': 10, 'max_features': 'sqrt', 'min_samples_leaf': 1, 'min_samples_split': 3, 'n_estimators': 9}\nbest score: 0.8361391694725028\n"
     ],
     "output_type": "stream"
    },
    {
     "name": "stderr",
     "text": [
      "C:\\Users\\Yunki\\Anaconda3\\lib\\site-packages\\sklearn\\linear_model\\logistic.py:947: ConvergenceWarning: lbfgs failed to converge. Increase the number of iterations.\n  \"of iterations.\", ConvergenceWarning)\nC:\\Users\\Yunki\\Anaconda3\\lib\\site-packages\\sklearn\\linear_model\\logistic.py:947: ConvergenceWarning: lbfgs failed to converge. Increase the number of iterations.\n  \"of iterations.\", ConvergenceWarning)\nC:\\Users\\Yunki\\Anaconda3\\lib\\site-packages\\sklearn\\linear_model\\logistic.py:947: ConvergenceWarning: lbfgs failed to converge. Increase the number of iterations.\n  \"of iterations.\", ConvergenceWarning)\nC:\\Users\\Yunki\\Anaconda3\\lib\\site-packages\\sklearn\\linear_model\\logistic.py:947: ConvergenceWarning: lbfgs failed to converge. Increase the number of iterations.\n  \"of iterations.\", ConvergenceWarning)\nC:\\Users\\Yunki\\Anaconda3\\lib\\site-packages\\sklearn\\linear_model\\logistic.py:947: ConvergenceWarning: lbfgs failed to converge. Increase the number of iterations.\n  \"of iterations.\", ConvergenceWarning)\n",
      "C:\\Users\\Yunki\\Anaconda3\\lib\\site-packages\\sklearn\\linear_model\\logistic.py:947: ConvergenceWarning: lbfgs failed to converge. Increase the number of iterations.\n  \"of iterations.\", ConvergenceWarning)\nC:\\Users\\Yunki\\Anaconda3\\lib\\site-packages\\sklearn\\linear_model\\logistic.py:947: ConvergenceWarning: lbfgs failed to converge. Increase the number of iterations.\n  \"of iterations.\", ConvergenceWarning)\nC:\\Users\\Yunki\\Anaconda3\\lib\\site-packages\\sklearn\\linear_model\\logistic.py:947: ConvergenceWarning: lbfgs failed to converge. Increase the number of iterations.\n  \"of iterations.\", ConvergenceWarning)\nC:\\Users\\Yunki\\Anaconda3\\lib\\site-packages\\sklearn\\linear_model\\logistic.py:947: ConvergenceWarning: lbfgs failed to converge. Increase the number of iterations.\n  \"of iterations.\", ConvergenceWarning)\n",
      "C:\\Users\\Yunki\\Anaconda3\\lib\\site-packages\\sklearn\\linear_model\\logistic.py:947: ConvergenceWarning: lbfgs failed to converge. Increase the number of iterations.\n  \"of iterations.\", ConvergenceWarning)\n",
      "C:\\Users\\Yunki\\Anaconda3\\lib\\site-packages\\sklearn\\model_selection\\_search.py:814: DeprecationWarning: The default of the `iid` parameter will change from True to False in version 0.22 and will be removed in 0.24. This will change numeric results when test-set sizes are unequal.\n  DeprecationWarning)\n",
      "C:\\Users\\Yunki\\Anaconda3\\lib\\site-packages\\sklearn\\model_selection\\_search.py:814: DeprecationWarning: The default of the `iid` parameter will change from True to False in version 0.22 and will be removed in 0.24. This will change numeric results when test-set sizes are unequal.\n  DeprecationWarning)\n"
     ],
     "output_type": "stream"
    },
    {
     "data": {
      "text/plain": "[{'name': 'LogisticRegression',\n  'estimator': LogisticRegression(C=1.0, class_weight=None, dual=False, fit_intercept=True,\n                     intercept_scaling=1, l1_ratio=None, max_iter=100,\n                     multi_class='warn', n_jobs=None, penalty='l2',\n                     random_state=None, solver='warn', tol=0.0001, verbose=0,\n                     warm_start=False),\n  'hyperparameters': {'solver': ['newton-cg', 'lbfgs', 'liblinear']},\n  'best_params': {'solver': 'liblinear'},\n  'best_score': 0.8204264870931538,\n  'best_estimator': LogisticRegression(C=1.0, class_weight=None, dual=False, fit_intercept=True,\n                     intercept_scaling=1, l1_ratio=None, max_iter=100,\n                     multi_class='warn', n_jobs=None, penalty='l2',\n                     random_state=None, solver='liblinear', tol=0.0001, verbose=0,\n                     warm_start=False)},\n {'name': 'KNeighborsClassifier',\n  'estimator': KNeighborsClassifier(algorithm='auto', leaf_size=30, metric='minkowski',\n                       metric_params=None, n_jobs=None, n_neighbors=5, p=2,\n                       weights='uniform'),\n  'hyperparameters': {'n_neighbors': range(1, 20, 2),\n   'weights': ['distance', 'uniform'],\n   'algorithm': ['ball_tree', 'kd_tree', 'brute'],\n   'p': [1, 2]},\n  'best_params': {'algorithm': 'brute',\n   'n_neighbors': 11,\n   'p': 1,\n   'weights': 'distance'},\n  'best_score': 0.7598204264870931,\n  'best_estimator': KNeighborsClassifier(algorithm='brute', leaf_size=30, metric='minkowski',\n                       metric_params=None, n_jobs=None, n_neighbors=11, p=1,\n                       weights='distance')},\n {'name': 'RandomForestClassifier',\n  'estimator': RandomForestClassifier(bootstrap=True, class_weight=None, criterion='gini',\n                         max_depth=None, max_features='auto', max_leaf_nodes=None,\n                         min_impurity_decrease=0.0, min_impurity_split=None,\n                         min_samples_leaf=1, min_samples_split=2,\n                         min_weight_fraction_leaf=0.0, n_estimators='warn',\n                         n_jobs=None, oob_score=False, random_state=None,\n                         verbose=0, warm_start=False),\n  'hyperparameters': {'n_estimators': [4, 6, 9],\n   'criterion': ['entropy', 'gini'],\n   'max_depth': [2, 5, 10],\n   'max_features': ['log2', 'sqrt'],\n   'min_samples_leaf': [1, 5, 8],\n   'min_samples_split': [2, 3, 5]},\n  'best_params': {'criterion': 'entropy',\n   'max_depth': 10,\n   'max_features': 'sqrt',\n   'min_samples_leaf': 1,\n   'min_samples_split': 3,\n   'n_estimators': 9},\n  'best_score': 0.8361391694725028,\n  'best_estimator': RandomForestClassifier(bootstrap=True, class_weight=None, criterion='entropy',\n                         max_depth=10, max_features='sqrt', max_leaf_nodes=None,\n                         min_impurity_decrease=0.0, min_impurity_split=None,\n                         min_samples_leaf=1, min_samples_split=3,\n                         min_weight_fraction_leaf=0.0, n_estimators=9,\n                         n_jobs=None, oob_score=False, random_state=None,\n                         verbose=0, warm_start=False)}]"
     },
     "metadata": {},
     "output_type": "execute_result",
     "execution_count": 17
    }
   ],
   "source": [
    "best_features_1 = best_features.drop(['Sex_female','Sex_male'])\n",
    "model_selected = model_selection(train,best_features_1)\n",
    "model_selected"
   ]
  },
  {
   "cell_type": "code",
   "execution_count": 18,
   "metadata": {
    "pycharm": {
     "is_executing": false
    }
   },
   "outputs": [],
   "source": [
    "def save_submission_file(model,features,df):\n",
    "    holdout = df[features]\n",
    "    prediction = best_model.predict(holdout)\n",
    "    submission = pd.DataFrame({'PassengerId':df['PassengerId'],'Survived':prediction})\n",
    "    submission.to_csv('c:/Users/Yunki/DataQuest/kaggle_submission.csv', index=False)"
   ]
  },
  {
   "cell_type": "code",
   "execution_count": 19,
   "metadata": {
    "pycharm": {
     "is_executing": false
    }
   },
   "outputs": [],
   "source": [
    "best_model = model_selected[2]['best_estimator']\n",
    "save_submission_file(best_model,best_features_1,test)"
   ]
  },
  {
   "cell_type": "code",
   "execution_count": 20,
   "metadata": {
    "scrolled": true,
    "pycharm": {
     "is_executing": false
    }
   },
   "outputs": [
    {
     "data": {
      "text/plain": "<matplotlib.axes._subplots.AxesSubplot at 0x26607851d30>"
     },
     "metadata": {},
     "output_type": "execute_result",
     "execution_count": 20
    },
    {
     "data": {
      "text/plain": "<Figure size 432x288 with 1 Axes>",
      "image/png": "[encoded data removed]"
     },
     "metadata": {
      "needs_background": "light"
     },
     "output_type": "display_data"
    }
   ],
   "source": [
    "import matplotlib.pyplot as plt\n",
    "import scikitplot as skplt\n",
    "%matplotlib inline\n",
    "y_probas = best_model.predict_proba(train[best_features_1])\n",
    "skplt.metrics.plot_cumulative_gain(train['Survived'], y_probas)"
   ]
  },
  {
   "cell_type": "code",
   "execution_count": 20,
   "metadata": {
    "pycharm": {
     "is_executing": false
    }
   },
   "outputs": [],
   "source": []
  }
 ],
 "metadata": {
  "kernelspec": {
   "name": "pycharm-ba834433",
   "language": "python",
   "display_name": "PyCharm (DataQuest)"
  },
  "language_info": {
   "codemirror_mode": {
    "name": "ipython",
    "version": 3
   },
   "file_extension": ".py",
   "mimetype": "text/x-python",
   "name": "python",
   "nbconvert_exporter": "python",
   "pygments_lexer": "ipython3",
   "version": "3.7.3"
  },
  "pycharm": {
   "stem_cell": {
    "cell_type": "raw",
    "source": [],
    "metadata": {
     "collapsed": false
    }
   }
  }
 },
 "nbformat": 4,
 "nbformat_minor": 2
}